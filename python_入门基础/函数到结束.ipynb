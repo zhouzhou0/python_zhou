{
 "cells": [
  {
   "cell_type": "markdown",
   "metadata": {},
   "source": [
    "# 四类参数\n",
    "   普通参数\n",
    "   默认参数\n",
    "   关键字参数\n",
    "   收集参数\n",
    "\n",
    "\n",
    "\n",
    "# 关键字参数的开始\n",
    " 语法\n",
    "    \n",
    "        def func(p1=v1, p2=v2.....):\n",
    "            func_body\n",
    "            \n",
    "        调用函数：\n",
    "        func(p1=value1, p2=value2.......)\n",
    "- 比较麻烦，但也有好处：\n",
    "    - 不容易混淆， 一般实参和形参只是按照位置一一对应即可，容易出错\n",
    "    - 使用关键字参数，可以不考虑参数位置\n"
   ]
  },
  {
   "cell_type": "code",
   "execution_count": 2,
   "metadata": {},
   "outputs": [
    {
     "name": "stdout",
     "output_type": "stream",
     "text": [
      "i am a student\n",
      "my name isxiaoming,i am 20 years old,my hometown is北京\n"
     ]
    }
   ],
   "source": [
    "def sss(name,age,addr):\n",
    "    print(\"i am a student\")\n",
    "    print(\"my name is{},i am {} years old,my hometown is{}\".format(name,age,addr))\n",
    "a=\"xiaoming\"\n",
    "b=20\n",
    "c=\"北京\"\n",
    "sss(a,b,c)#参数一一对应,\n",
    "# 普通参数，只按照位置传递，容易出错"
   ]
  },
  {
   "cell_type": "code",
   "execution_count": 7,
   "metadata": {},
   "outputs": [
    {
     "name": "stdout",
     "output_type": "stream",
     "text": [
      "i am a student\n",
      "my name is xiaoming,i am 20 years old,my hometown is北京\n"
     ]
    }
   ],
   "source": [
    "def sss(name,age,addr):\n",
    "    print(\"i am a student\")\n",
    "    print(\"my name is {},i am {} years old,my hometown is{}\".format(name,age,addr))\n",
    "a = \"xiaoming\"\n",
    "b = 20\n",
    "c = \"北京\"\n",
    "sss(age=b,name=a,addr=c)#关键字参数可以不看顺序"
   ]
  },
  {
   "cell_type": "markdown",
   "metadata": {},
   "source": [
    "## 收集参数\n",
    "- 把没有位置，不能和定义时的参数位置相对应的参数，放入一个特定的数据结构中\n",
    "- 语法\n",
    "    \n",
    "        def func(*args):\n",
    "            func_body\n",
    "            按照list使用方式访问args得到传入的参数\n",
    "            \n",
    "        调用：\n",
    "        func(p1, p2, p3, .....)\n",
    "- 参数名args不是必须这么写，但是，我们推荐直接用args，约定俗成\n",
    "- 参数名args前需要由星号\n",
    "- 收集参数可以和其他参数共存"
   ]
  },
  {
   "cell_type": "code",
   "execution_count": 13,
   "metadata": {},
   "outputs": [
    {
     "name": "stdout",
     "output_type": "stream",
     "text": [
      "hello,大家来做个自我介绍吧：\n",
      "<class 'tuple'>\n",
      "我叫小明\n",
      "18岁了\n",
      "喜欢蹦迪\n",
      " \n",
      "hello,大家来做个自我介绍吧：\n",
      "<class 'tuple'>\n",
      "大家叫我大神\n"
     ]
    }
   ],
   "source": [
    "# 收集参数代码\n",
    "# 函数模拟一个学生进行自我介绍，但具体内容不清楚\n",
    "# args把他看做一个list\n",
    "def omg(*args):\n",
    "    print(\"hello,大家来做个自我介绍吧：\")\n",
    "    print(type(args))\n",
    "    for i in args:  #for循环，把args里面的打印出来\n",
    "        print(i)\n",
    "omg(\"我叫小明\",\"18岁了\",\"喜欢蹦迪\")\n",
    "print(\" \")\n",
    "omg(\"大家叫我大神\")"
   ]
  },
  {
   "cell_type": "code",
   "execution_count": 12,
   "metadata": {},
   "outputs": [
    {
     "name": "stdout",
     "output_type": "stream",
     "text": [
      "hello,大家来做个自我介绍吧：\n"
     ]
    }
   ],
   "source": [
    "# 收集参数案例\n",
    "# 说明收集参数可以不带任何实参调用，此时收集参数为空tuple\n",
    "omg()"
   ]
  },
  {
   "cell_type": "code",
   "execution_count": 14,
   "metadata": {},
   "outputs": [
    {
     "ename": "TypeError",
     "evalue": "omg() got an unexpected keyword argument 'name'",
     "output_type": "error",
     "traceback": [
      "\u001b[0;31m---------------------------------------------------------------------------\u001b[0m",
      "\u001b[0;31mTypeError\u001b[0m                                 Traceback (most recent call last)",
      "\u001b[0;32m<ipython-input-14-77fd8205eb89>\u001b[0m in \u001b[0;36m<module>\u001b[0;34m()\u001b[0m\n\u001b[1;32m      1\u001b[0m \u001b[0;31m# 如果使用关键字参数格式调用，会出现问题\u001b[0m\u001b[0;34m\u001b[0m\u001b[0;34m\u001b[0m\u001b[0m\n\u001b[0;32m----> 2\u001b[0;31m \u001b[0momg\u001b[0m\u001b[0;34m(\u001b[0m\u001b[0mname\u001b[0m\u001b[0;34m=\u001b[0m\u001b[0;34m\"xixi\"\u001b[0m\u001b[0;34m)\u001b[0m\u001b[0;34m\u001b[0m\u001b[0m\n\u001b[0m",
      "\u001b[0;31mTypeError\u001b[0m: omg() got an unexpected keyword argument 'name'"
     ]
    }
   ],
   "source": [
    "# 如果使用关键字参数格式调用，会出现问题\n",
    "omg(name=\"xixi\")"
   ]
  },
  {
   "cell_type": "markdown",
   "metadata": {},
   "source": [
    "收集参数之关键字收集参数\n",
    "把关键字参数按字典格式存入收集参数\n",
    "语法：\n",
    "\n",
    "  def func( **kwargs):\n",
    "      func_body\n",
    "\n",
    "  # 调用：\n",
    "  func(p1=v1, p2=v2, p3=v3........)\n",
    "kwargs一般约定俗成\n",
    "调用的时候，把多余的关键字参数放入kwargs\n",
    "访问kwargs需要按字典格式访问"
   ]
  },
  {
   "cell_type": "code",
   "execution_count": 31,
   "metadata": {},
   "outputs": [
    {
     "name": "stdout",
     "output_type": "stream",
     "text": [
      "hello,大家来做个自我介绍吧：\n",
      "<class 'dict'>\n",
      "name >>>>> 小明\n",
      "age >>>>> 20\n",
      "addr >>>>> 北京\n",
      "aihao >>>>> 打球\n",
      "__________________________________________________\n",
      "hello,大家来做个自我介绍吧：\n",
      "<class 'dict'>\n",
      "name >>>>> 小周\n"
     ]
    }
   ],
   "source": [
    "def func(**kwargs):\n",
    "    #在函数体内，对kwargs的使用不要带星号\n",
    "    print(\"hello,大家来做个自我介绍吧：\")\n",
    "    print(type(kwargs))\n",
    "   #对字典的访问\n",
    "    for k,v in kwargs.items():\n",
    "        print(k,\">>>>>\",v)\n",
    "        \n",
    "        \n",
    "func(name=\"小明\",age=20,addr=\"北京\",aihao=\"打球\")\n",
    "print(\"_\"*50)\n",
    "func(name=\"小周\")"
   ]
  },
  {
   "cell_type": "code",
   "execution_count": 25,
   "metadata": {},
   "outputs": [
    {
     "name": "stdout",
     "output_type": "stream",
     "text": [
      "hello,大家来做个自我介绍吧：\n",
      "<class 'dict'>\n"
     ]
    }
   ],
   "source": [
    "#收集参数可以为空\n",
    "func()\n"
   ]
  },
  {
   "cell_type": "markdown",
   "metadata": {},
   "source": [
    "### 收集参数混合调用的顺序问题\n",
    "- 收集参数，关键字参数，普通参数可以混合使用\n",
    "- 使用规则就是，普通参数和关键字参数优先\n",
    "- 定义的时候一般找普通参数，关键字参数，收集参数tuple，收集参数dict"
   ]
  },
  {
   "cell_type": "code",
   "execution_count": 43,
   "metadata": {},
   "outputs": [
    {
     "name": "stdout",
     "output_type": "stream",
     "text": [
      "我叫小明,今年20岁了\n",
      "我这个人没有什么爱好呀\n",
      "家住在北京\n",
      "hobby2 ---- 学习python\n",
      "hobby3 ---- 看书呀\n",
      "******************************\n",
      "我叫小黄,今年22岁了\n",
      "我的爱好是睡觉\n",
      "家住在北京\n",
      "hobby2 ---- 学习python\n",
      "hobby3 ---- 看书呀\n",
      "******************************\n"
     ]
    }
   ],
   "source": [
    "# 收集参数混合调用案例\n",
    "# stu模拟一个学生的自我介绍\n",
    "def stu(name,age,hobby, *args,**kwargs):\n",
    "    print(\"我叫{},今年{}岁了\".format(name,age))\n",
    "    if hobby ==\"没有\":\n",
    "        print(\"我这个人没有什么爱好呀\")\n",
    "    else:\n",
    "        print(\"我的爱好是{}\".format(hobby))\n",
    "    for i in args:\n",
    "        print(i)\n",
    "    for k,v in kwargs.items():#字典的调用后面要跟这.items\n",
    "        print(k,\"----\",v)\n",
    "    print(\"*\"*30)\n",
    "        \n",
    "name=\"小明\"\n",
    "age=20\n",
    "hobby=\"没有\"\n",
    "stu(name,age,hobby,\"家住在北京\",hobby2=\"学习python\",hobby3=\"看书呀\")#参数对应的位置与原函数一样\n",
    "\n",
    "name=\"小黄\"\n",
    "age=22\n",
    "hobby=\"睡觉\"\n",
    "\n",
    "stu(name,age,hobby,\"家住在北京\",hobby2=\"学习python\",hobby3=\"看书呀\")"
   ]
  },
  {
   "cell_type": "markdown",
   "metadata": {},
   "source": [
    "### 收集参数的解包问题\n",
    "- 把参数放入list或者字典中，直接把list/dict中的值放入收集参数中\n",
    "- 语法：参看案例\n"
   ]
  },
  {
   "cell_type": "code",
   "execution_count": 49,
   "metadata": {},
   "outputs": [
    {
     "name": "stdout",
     "output_type": "stream",
     "text": [
      "dododo\n",
      "0\n",
      "['meimei', 11, 'dddd', 'dada']\n",
      "xxxxxxxxx\n",
      "dododo\n",
      "0\n",
      "meimei\n",
      "1\n",
      "11\n",
      "2\n",
      "dddd\n",
      "3\n",
      "dada\n",
      "xxxxxxxxx\n"
     ]
    }
   ],
   "source": [
    "def sst(*args):\n",
    "    print(\"dododo\")\n",
    "    n=0\n",
    "   \n",
    "    for i in args:\n",
    "        print(n)\n",
    "        print(i)\n",
    "        \n",
    "        n+=1\n",
    "    print(\"xxxxxxxxx\")\n",
    "l=[\"meimei\",11,\"dddd\",\"dada\"]\n",
    "##此时，args的表示形式是字典内一个list类型的元素，即 arg = ([\"liuying\", 19, 23, \"wangxiaojing\"],)\n",
    "# 很显然跟我们最初的想法违背\n",
    "\n",
    "\n",
    "# 此时的调用，我们就需要解包符号，即调用的时候前面加一个星号\n",
    "\n",
    "sst(l)\n",
    "\n",
    "sst(*l)\n",
    "\n",
    "\n"
   ]
  },
  {
   "cell_type": "markdown",
   "metadata": {},
   "source": [
    "### 同理，dict类型收集参数一样可以解包，但是\n",
    "- 对dict类型进行解包\n",
    "- 需要用两个星号进行解包"
   ]
  },
  {
   "cell_type": "markdown",
   "metadata": {},
   "source": [
    "# 返回值\n",
    "- 函数和过程的区别\n",
    "    - 有无返回值\n",
    "- 需要用return显示返回内容，\n",
    "- 如果没有返回，则默认返回None\n",
    "- 推荐写法，无论有无返回值，最后都要以return 结束"
   ]
  },
  {
   "cell_type": "code",
   "execution_count": 55,
   "metadata": {},
   "outputs": [
    {
     "name": "stdout",
     "output_type": "stream",
     "text": [
      "嘻嘻嘻\n",
      "嘻嘻嘻\n",
      "None\n",
      "hahaha\n",
      "1\n"
     ]
    }
   ],
   "source": [
    "def fun():\n",
    "    print(\"嘻嘻嘻\")\n",
    "fun()\n",
    "print(fun())\n",
    "\n",
    "def fun1():\n",
    "    print(\"hahaha\")\n",
    "    return 1\n",
    "print(fun1())"
   ]
  },
  {
   "cell_type": "markdown",
   "metadata": {},
   "source": []
  },
  {
   "cell_type": "markdown",
   "metadata": {},
   "source": [
    "# 函数文档\n",
    "- 函数的文档的作用是对当前函数提供使用相关的参考信息\n",
    "- 文档的写法：\n",
    "    - 在函数内部开始的第一行使用三引号字符串定义符\n",
    "    - 一般具有特定格式\n",
    "    - 参看案例\n",
    "- 文档查看\n",
    "    - 使用help函数，形如 help(func)\n",
    "    - 使用__doc__, 参看案例(连着两个下划线__)"
   ]
  },
  {
   "cell_type": "code",
   "execution_count": 57,
   "metadata": {},
   "outputs": [
    {
     "name": "stdout",
     "output_type": "stream",
     "text": [
      "Help on function stu in module __main__:\n",
      "\n",
      "stu(name, age)\n",
      "    文档的内容\n",
      "    :parm name:姓名\n",
      "    :parm age:年龄\n",
      "    :return:返回值\n",
      "\n",
      "None\n",
      "********************\n",
      "\n",
      "    文档的内容\n",
      "    :parm name:姓名\n",
      "    :parm age:年龄\n",
      "    :return:返回值\n",
      "    \n",
      "    \n"
     ]
    }
   ],
   "source": [
    "def stu(name,age):\n",
    "    '''\n",
    "    文档的内容\n",
    "    :parm name:姓名\n",
    "    :parm age:年龄\n",
    "    :return:返回值\n",
    "    \n",
    "    '''\n",
    "print(help(stu))\n",
    "print(\"*\"*20)\n",
    "print(stu.__doc__)\n",
    "    "
   ]
  },
  {
   "cell_type": "code",
   "execution_count": null,
   "metadata": {
    "collapsed": true
   },
   "outputs": [],
   "source": []
  },
  {
   "cell_type": "code",
   "execution_count": null,
   "metadata": {
    "collapsed": true
   },
   "outputs": [],
   "source": []
  }
 ],
 "metadata": {
  "kernelspec": {
   "display_name": "Python 3",
   "language": "python",
   "name": "python3"
  },
  "language_info": {
   "codemirror_mode": {
    "name": "ipython",
    "version": 3
   },
   "file_extension": ".py",
   "mimetype": "text/x-python",
   "name": "python",
   "nbconvert_exporter": "python",
   "pygments_lexer": "ipython3",
   "version": "3.6.3"
  }
 },
 "nbformat": 4,
 "nbformat_minor": 2
}
