{
 "cells": [
  {
   "cell_type": "markdown",
   "metadata": {},
   "source": [
    "#三大结构 顺序 分支 循环\n",
    "#分支\n",
    "   if 条件表达式：\n",
    "        语句1\n",
    "        语句2\n",
    "        语句3\n",
    "        .......\n",
    "条件表达式就是计算结果必须为布尔值的表达式\n",
    "表达式后面冒号不能少\n",
    "注意if后面出现的语句，如果属于if语句块，则必须同一个缩进等级\n",
    "条件表达式结果为True执行if后面的缩进的语句块\n",
    "\n",
    "\n"
   ]
  },
  {
   "cell_type": "code",
   "execution_count": 2,
   "metadata": {},
   "outputs": [
    {
     "name": "stdout",
     "output_type": "stream",
     "text": [
      "你是猪吗\n",
      "zzz\n"
     ]
    }
   ],
   "source": [
    "age=20\n",
    "if age > 18:\n",
    "    print(\"你是猪吗\")\n",
    "    print(\"zzz\")\n",
    "    "
   ]
  },
  {
   "cell_type": "code",
   "execution_count": 5,
   "metadata": {},
   "outputs": [
    {
     "name": "stdout",
     "output_type": "stream",
     "text": [
      "g o  go  go\n"
     ]
    }
   ],
   "source": [
    "age=111\n",
    "if age > 122:\n",
    "    print(\"coco\")\n",
    "    print(\"up up up\")\n",
    "print(\"g o  go  go\")"
   ]
  },
  {
   "cell_type": "code",
   "execution_count": 7,
   "metadata": {},
   "outputs": [
    {
     "name": "stdout",
     "output_type": "stream",
     "text": [
      "up up up\n",
      "g o  go  go\n"
     ]
    }
   ],
   "source": [
    "age=111\n",
    "if age > 122:\n",
    "    print(\"coco\")\n",
    "    \n",
    "print(\"up up up\")\n",
    "print(\"g o  go  go\")"
   ]
  },
  {
   "cell_type": "markdown",
   "metadata": {},
   "source": [
    "#双向分支\n",
    "if....else....\n",
    "    if 条件表达式 ：\n",
    "       语句1\n",
    "       语句2\n",
    "       ...\n",
    "     else：\n",
    "       语句1\n",
    "       语句2\n",
    "       ...\n",
    ".双向分支有两个分支，一定会执行if或else其中一个，也仅有一个\n",
    "\n",
    "\n",
    "缩进：if和else一个层级，其余语句一个层级\n",
    "     "
   ]
  },
  {
   "cell_type": "code",
   "execution_count": 10,
   "metadata": {},
   "outputs": [
    {
     "name": "stdout",
     "output_type": "stream",
     "text": [
      "输入一个数字：h\n",
      "你输入的数字是h\n",
      "猪\n",
      "吃饭了\n"
     ]
    }
   ],
   "source": [
    "#input作用\n",
    "#在屏幕在输出括号内的字符串\n",
    "#接受用户输入的内容并返回到程序\n",
    "#input返回的内容一定是字符串\n",
    "\n",
    "\n",
    "\n",
    "Num =input(\"输入一个数字：\")\n",
    "print(\"你输入的数字是{0}\".format(Num))\n",
    "if Num == \"h\" :\n",
    "    print(\"猪\")\n",
    "else:\n",
    "     print(\"狗\")\n",
    "print(\"吃饭了\")"
   ]
  },
  {
   "cell_type": "code",
   "execution_count": 14,
   "metadata": {},
   "outputs": [
    {
     "name": "stdout",
     "output_type": "stream",
     "text": [
      "输入一个数字：0\n",
      "<class 'int'>\n",
      "你输入的数字是0\n",
      "猪\n",
      "吃饭了\n"
     ]
    }
   ],
   "source": [
    "#一个数字不是字符串，if判断数字，用int，强制换类型，tpye函数用来看变量是 什么类型\n",
    "#int整数型，string是字符串类型\n",
    "#两个变量要为同一个类型才能比较\n",
    "Num =int (input(\"输入一个数字：\"))#强制换类型，原本input输入是string\n",
    "print(type(Num))\n",
    "\n",
    "print(\"你输入的数字是{0}\".format(Num))\n",
    "if Num == 0 :\n",
    "    print(\"猪\")\n",
    "else:\n",
    "     print(\"狗\")\n",
    "print(\"吃饭了\")"
   ]
  },
  {
   "cell_type": "code",
   "execution_count": 24,
   "metadata": {},
   "outputs": [
    {
     "name": "stdout",
     "output_type": "stream",
     "text": [
      "输入您的成绩:20\n",
      "<class 'int'>\n",
      "您输入的成绩是20\n",
      "你有点菜\n"
     ]
    }
   ],
   "source": [
    "score =int( input(\"输入您的成绩:\"))#或者score=int(score)\n",
    "print(type(score))\n",
    "print(\"您输入的成绩是{}\".format(score))\n",
    "if score >=  90:\n",
    "    print(\"优秀\")\n",
    "if score >=80 and score<90:\n",
    "    print(\"良好\")\n",
    "if score >=70 and score<80:\n",
    "    print(\"C\")\n",
    "if score>60 and score <70:\n",
    "    print(\"shashashui\")\n",
    "if score <=60:\n",
    "    print(\"你有点菜\")"
   ]
  },
  {
   "cell_type": "markdown",
   "metadata": {
    "collapsed": true
   },
   "source": [
    "#多路分支\n",
    "  if 条件表达式：\n",
    "      语句1\n",
    "      ...\n",
    "  elif 条件表达式：    \n",
    "       语句1\n",
    "      ...\n",
    "  elif 条件表达式：    \n",
    "       语句1\n",
    "      ...\n",
    "  elif 条件表达式：    \n",
    "       语句1\n",
    "      ...\n",
    "  else：\n",
    "       语句1\n",
    "      ...\n",
    " elif可以有很多ge\n",
    " else可选\n",
    " 多路分析只会选一个执行"
   ]
  },
  {
   "cell_type": "code",
   "execution_count": 32,
   "metadata": {},
   "outputs": [
    {
     "name": "stdout",
     "output_type": "stream",
     "text": [
      "输入您的成绩:99\n",
      "<class 'int'>\n",
      "您输入的成绩是99\n",
      "优秀\n"
     ]
    }
   ],
   "source": [
    "score =int( input(\"输入您的成绩:\"))#或者score=int(score)\n",
    "print(type(score))\n",
    "print(\"您输入的成绩是{}\".format(score))\n",
    "if score >=  90:\n",
    "    print(\"优秀\")\n",
    "elif score >=80 :\n",
    "    print(\"良好\")\n",
    "elif score >=70 :\n",
    "    print(\"C\")\n",
    "elif score>=60 :\n",
    "    print(\"shashashui\")\n",
    "else :\n",
    "    print(\"你有点菜\")\n",
    "    \n"
   ]
  },
  {
   "cell_type": "markdown",
   "metadata": {},
   "source": [
    "# 循环语句\n",
    " 重复执行某些固定的动作或者基本固定的事物\n",
    " for循环\n",
    " while循环\n",
    " \n",
    "   for 变量 in 序列：\n",
    "       语句1\n",
    "       语句2\n",
    "       ...\n",
    "       "
   ]
  },
  {
   "cell_type": "code",
   "execution_count": 40,
   "metadata": {},
   "outputs": [
    {
     "name": "stdout",
     "output_type": "stream",
     "text": [
      "kangkang\n",
      "是小傻逼\n",
      "coco\n",
      "this is me\n",
      "最帅的coco\n",
      "maikou\n",
      "是小傻逼\n"
     ]
    }
   ],
   "source": [
    "for name in (\"kangkang\",\"coco\",\"maikou\"):\n",
    "     print(name)\n",
    "     if name ==\"coco\":\n",
    "         print(\"this is me\")\n",
    "         print(\"最帅的{}\".format(name))\n",
    "     else:\n",
    "        print(\"是小傻逼\")"
   ]
  },
  {
   "cell_type": "markdown",
   "metadata": {},
   "source": [
    "# range\n",
    "生成一个数字序列\n",
    "具体范围可以设定\n",
    "在一般python中，如果由表示数字范围的两个数，一般包含左边的数字，不包含右边的数字\n",
    "randint是特例，左右都包含"
   ]
  },
  {
   "cell_type": "code",
   "execution_count": 53,
   "metadata": {},
   "outputs": [
    {
     "name": "stdout",
     "output_type": "stream",
     "text": [
      "1\n",
      "2\n",
      "3\n",
      "4\n",
      "5\n",
      "6\n",
      "7\n",
      "8\n",
      "9\n"
     ]
    }
   ],
   "source": [
    "for i in range(1,10):\n",
    "        print(i)"
   ]
  },
  {
   "cell_type": "markdown",
   "metadata": {},
   "source": [
    "# for else 语句\n",
    "   当for循环结束的时候，会执行else语句\n",
    "   else语句是可选语句"
   ]
  },
  {
   "cell_type": "code",
   "execution_count": 55,
   "metadata": {},
   "outputs": [
    {
     "name": "stdout",
     "output_type": "stream",
     "text": [
      "kangkang\n",
      "是小傻逼\n",
      "coco\n",
      "this is me\n",
      "最帅的coco\n",
      "maikou\n",
      "是小傻逼\n",
      "其他的同学下课吧\n"
     ]
    }
   ],
   "source": [
    "for name in (\"kangkang\",\"coco\",\"maikou\"):\n",
    "     print(name)\n",
    "     if name ==\"coco\":\n",
    "         print(\"this is me\")\n",
    "         print(\"最帅的{}\".format(name))\n",
    "     else:\n",
    "        print(\"是小傻逼\")\n",
    "else :\n",
    "    print(\"其他的同学下课吧\")"
   ]
  },
  {
   "cell_type": "markdown",
   "metadata": {},
   "source": [
    "# 循环之break，continue，pass\n",
    "`break:无条件结束整个循环，简称循环猝死\n",
    "`continue：无条件结束本次循环，从新进入下一循环\n",
    "`pass：表示略过,占位符"
   ]
  },
  {
   "cell_type": "code",
   "execution_count": 61,
   "metadata": {},
   "outputs": [
    {
     "name": "stdout",
     "output_type": "stream",
     "text": [
      "1\n",
      "2\n",
      "3\n",
      "4\n",
      "5\n",
      "6\n",
      "这就是7\n"
     ]
    }
   ],
   "source": [
    "#在数字1到10找出7，一旦找打，然后停止\n",
    "for i in range(1,11):\n",
    "   if i ==7:\n",
    "     print(\"这就是7\")\n",
    "     break\n",
    "   else:\n",
    "     print(i)"
   ]
  },
  {
   "cell_type": "code",
   "execution_count": 64,
   "metadata": {},
   "outputs": [
    {
     "name": "stdout",
     "output_type": "stream",
     "text": [
      "2是偶数\n",
      "4是偶数\n",
      "6是偶数\n",
      "8是偶数\n",
      "10是偶数\n"
     ]
    }
   ],
   "source": [
    "#在数字1到10找出偶数，打印出来\n",
    "for i in range(1,11):\n",
    "    if i %2 ==1:\n",
    "     continue\n",
    "    else:\n",
    "        print(\"{}是偶数\".format(i))\n"
   ]
  },
  {
   "cell_type": "code",
   "execution_count": 68,
   "metadata": {},
   "outputs": [
    {
     "name": "stdout",
     "output_type": "stream",
     "text": [
      "2是偶数\n",
      "4是偶数\n",
      "6是偶数\n",
      "8是偶数\n",
      "10是偶数\n"
     ]
    }
   ],
   "source": [
    "for i in range(1,11):\n",
    "    if i %2 ==1:\n",
    "     continue\n",
    "    \n",
    "    print(\"{}是偶数\".format(i))"
   ]
  },
  {
   "cell_type": "code",
   "execution_count": 72,
   "metadata": {},
   "outputs": [
    {
     "name": "stdout",
     "output_type": "stream",
     "text": [
      "da uu u u\n",
      "da uu u u\n",
      "da uu u u\n",
      "da uu u u\n",
      "da uu u u\n",
      "da uu u u\n",
      "da uu u u\n",
      "da uu u u\n",
      "da uu u u\n",
      "da uu u u\n"
     ]
    }
   ],
   "source": [
    "for i in range(1,11):\n",
    "    pass\n",
    "    print(\"da uu u u\")"
   ]
  }
 ],
 "metadata": {
  "kernelspec": {
   "display_name": "Python 3",
   "language": "python",
   "name": "python3"
  },
  "language_info": {
   "codemirror_mode": {
    "name": "ipython",
    "version": 3
   },
   "file_extension": ".py",
   "mimetype": "text/x-python",
   "name": "python",
   "nbconvert_exporter": "python",
   "pygments_lexer": "ipython3",
   "version": "3.6.3"
  }
 },
 "nbformat": 4,
 "nbformat_minor": 2
}
