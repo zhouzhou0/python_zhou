{
 "cells": [
  {
   "cell_type": "code",
   "execution_count": 2,
   "metadata": {},
   "outputs": [
    {
     "name": "stdout",
     "output_type": "stream",
     "text": [
      "[1, 1, 1, 2, 1, 5, 7]\n",
      "[1, 1, 100, 2, 1, 5, 7]\n",
      "[1, 1, 100, 2, 1, 5, 7]\n",
      "108\n",
      "8\n"
     ]
    }
   ],
   "source": [
    "# 传值和传地址的区别\n",
    "# 对于简单的数值，采用传值操作，即在函数内对参数的操作不影响外面的变量\n",
    "# 对于复杂变量，采用传地址操作，此时函数内的参数和外部变量是同一份内容，\n",
    "# 任何地方对此内容的更改都影响另外的变量或参数的使用\n",
    "def a(n):\n",
    "    n[2]=100\n",
    "    print(n)\n",
    "def b(n):\n",
    "    n+=100\n",
    "    print(n)\n",
    "an=[1,1,1,2,1,5,7]\n",
    "bn=8\n",
    "print(an)\n",
    "a(an)\n",
    "print(an)\n",
    "b(bn)\n",
    "print(bn)"
   ]
  },
  {
   "cell_type": "code",
   "execution_count": 3,
   "metadata": {},
   "outputs": [
    {
     "name": "stdout",
     "output_type": "stream",
     "text": [
      "[1, 2, 3, 4]\n",
      "[1, 2, 3, 4, 100]\n"
     ]
    }
   ],
   "source": [
    "# 关于列表的函数\n",
    "#append 插入一个内容，在末尾追加\n",
    "a=[1,2,3,4]\n",
    "print(a)\n",
    "a.append(100)\n",
    "print(a)"
   ]
  },
  {
   "cell_type": "code",
   "execution_count": 4,
   "metadata": {},
   "outputs": [
    {
     "name": "stdout",
     "output_type": "stream",
     "text": [
      "[1, 2, 3, 4, 100]\n",
      "[1, 2, 3, 777, 4, 100]\n"
     ]
    }
   ],
   "source": [
    "#insert:指定位置插入\n",
    "#insert(indx,data),插入位置是index前面\n",
    "print(a)\n",
    "a.insert(3,777)\n",
    "print(a)"
   ]
  },
  {
   "cell_type": "code",
   "execution_count": 19,
   "metadata": {},
   "outputs": [
    {
     "name": "stdout",
     "output_type": "stream",
     "text": [
      "[1, 3, 4, 5]\n",
      "[1, 4, 5]\n",
      "**************************************************\n"
     ]
    }
   ],
   "source": [
    "#删除\n",
    "#del 删除\n",
    "#pop，从对位拿出一个元素，即把最后一个元素取出来\n",
    "print(a)\n",
    "del a[1]\n",
    "print(a)\n",
    "\n",
    "print(\"*\"*50)\n",
    "\n"
   ]
  },
  {
   "cell_type": "code",
   "execution_count": 17,
   "metadata": {},
   "outputs": [
    {
     "name": "stdout",
     "output_type": "stream",
     "text": [
      "[1, 2, 3, 4, 5, 6]\n",
      "[1, 2, 3, 4, 5]\n",
      "6\n"
     ]
    }
   ],
   "source": [
    "#pop，从对位拿出一个元素，即把最后一个元素取出来\n",
    "a=[1,2,3,4,5,6]\n",
    "print(a)\n",
    "last_ele=a.pop()\n",
    "print(a)\n",
    "print(last_ele)"
   ]
  },
  {
   "cell_type": "code",
   "execution_count": 21,
   "metadata": {},
   "outputs": [
    {
     "name": "stdout",
     "output_type": "stream",
     "text": [
      "140281426580232\n",
      "[1, 2, 3, 4, 5, 6, 777]\n",
      "140281426580232\n",
      "[1, 2, 3, 4, 5, 6]\n"
     ]
    }
   ],
   "source": [
    "# remove:在列表中删除指定的值的元素\n",
    "# 如果被删除的值没在list中，则报错\n",
    "# 即，删除list指定值的操作应该使用try。。。excepty语句，或者先行进行判断\n",
    "# if x in list:\n",
    "#    list.remove(x)\n",
    "b=[1,2,3,4,5,6,777]\n",
    "print(id(b))\n",
    "print(b)\n",
    "b.remove(777)\n",
    "print(id(b))\n",
    "print(b)\n",
    "# 输出两个id值一样，说明，remove操作是在原list直接操作"
   ]
  },
  {
   "cell_type": "code",
   "execution_count": 23,
   "metadata": {},
   "outputs": [
    {
     "name": "stdout",
     "output_type": "stream",
     "text": [
      "[]\n",
      "140281426580232\n",
      "[]\n",
      "140281426580232\n",
      "140281426726600\n"
     ]
    }
   ],
   "source": [
    "#clear:清空\n",
    "print(b)\n",
    "print(id(b))\n",
    "b.clear()\n",
    "print(b)\n",
    "print(id(b))#clear就是把原来的列表内容清空\n",
    "b=[]#这就是一个新的列表了\n",
    "print(id(b))"
   ]
  },
  {
   "cell_type": "code",
   "execution_count": 24,
   "metadata": {},
   "outputs": [
    {
     "name": "stdout",
     "output_type": "stream",
     "text": [
      "[1, 2, 3, 4, 5, 6, 7, 8, 9]\n",
      "140281426725384\n",
      "[9, 8, 7, 6, 5, 4, 3, 2, 1]\n",
      "140281426725384\n"
     ]
    }
   ],
   "source": [
    "#reverse 翻转列表的内容，是原地翻转\n",
    "a=[1,2,3,4,5,6,7,8,9]\n",
    "print(a)\n",
    "print(id(a))\n",
    "a.reverse()\n",
    "print(a)\n",
    "print(id(a))"
   ]
  },
  {
   "cell_type": "code",
   "execution_count": 25,
   "metadata": {},
   "outputs": [
    {
     "name": "stdout",
     "output_type": "stream",
     "text": [
      "[1, 2, 3, 4, 5, 6, 7, 8, 9]\n",
      "140281486385032\n",
      "[1, 2, 3, 4, 5, 6, 7, 8, 9, 10, 11, 12, 13]\n",
      "140281486385032\n"
     ]
    }
   ],
   "source": [
    "#extend:扩展列表，两个列表，把一个直接拼接到另一个上面\n",
    "a=[1,2,3,4,5,6,7,8,9]\n",
    "b=[10,11,12,13]\n",
    "print(a)\n",
    "print(id(a))\n",
    "a.extend(b)\n",
    "print(a)\n",
    "print(id(a))\n",
    "\n"
   ]
  },
  {
   "cell_type": "code",
   "execution_count": 30,
   "metadata": {},
   "outputs": [
    {
     "name": "stdout",
     "output_type": "stream",
     "text": [
      "[1, 2, 3, 4, 5, 6, 7, 8, 9]\n",
      "[8, 1, 2, 3, 4, 5, 6, 7, 8, 9, 8]\n",
      "3\n"
     ]
    }
   ],
   "source": [
    "# count:查找列表中指定值或元素的个数\n",
    "a=[1,2,3,4,5,6,7,8,9]\n",
    "print(a)\n",
    "a.append(8)\n",
    "a.insert(0,8)\n",
    "print(a)\n",
    "x=a.count(8)\n",
    "print(x)"
   ]
  },
  {
   "cell_type": "code",
   "execution_count": 35,
   "metadata": {},
   "outputs": [
    {
     "name": "stdout",
     "output_type": "stream",
     "text": [
      "[1, 2, 3, 4]\n",
      "140281417726984\n",
      "[777, 2, 3, 4]\n",
      "[777, 2, 3, 4]\n",
      "140281417726984\n",
      "140281417726984\n"
     ]
    }
   ],
   "source": [
    "#copy\n",
    "\n",
    "#都是在同一个地址里面操作\n",
    "## 列表类型变量赋值示例\n",
    "# list类型，简单赋值操作，是传地址\n",
    "a=[1,2,3,4]\n",
    "print(a)\n",
    "print(id(a))\n",
    "b=a\n",
    "b[0]=777\n",
    "print(b)\n",
    "print(a)\n",
    "print(id(a))\n",
    "print(id(b))\n",
    "\n"
   ]
  },
  {
   "cell_type": "code",
   "execution_count": 39,
   "metadata": {},
   "outputs": [
    {
     "name": "stdout",
     "output_type": "stream",
     "text": [
      "[1, 2, 3, 4]\n",
      "140281417724936\n",
      "[777, 2, 3, 4]\n",
      "[1, 2, 3, 4]\n",
      "140281417865352\n",
      "140281417724936\n",
      "[1, 2, 3, 4]\n",
      "[777, 2, 3, 4]\n"
     ]
    }
   ],
   "source": [
    "#copy\n",
    "\n",
    "\n",
    "# 为了解决以上问题，list赋值需要采用copy函数a=[1,2,3,4]\n",
    "#这样是在a的备份里面操作，不影响a\n",
    "print(a)\n",
    "print(id(a))\n",
    "b=a.copy()\n",
    "b[0]=777\n",
    "print(b)\n",
    "print(a)\n",
    "print(id(b))\n",
    "print(id(a))\n",
    "print(a)\n",
    "print(b)\n",
    "\n"
   ]
  },
  {
   "cell_type": "code",
   "execution_count": 41,
   "metadata": {},
   "outputs": [
    {
     "name": "stdout",
     "output_type": "stream",
     "text": [
      "140281486399560\n",
      "140281486389512\n",
      "140281486399688\n",
      "140281486399688\n",
      "[1, 2, 3, [4, 666, 6]]\n",
      "[1, 2, 3, [4, 666, 6]]\n",
      "140281486399688\n",
      "140281486399688\n"
     ]
    }
   ],
   "source": [
    "# 深拷贝跟浅拷贝的区别\n",
    "# 出现下列问题的原因是，copy‘函数是个浅拷贝函数，即只拷贝一层内容\n",
    "# 深拷贝需要使用特定工具\n",
    "a=[1,2,3,[4,5,6]]\n",
    "b=a.copy()\n",
    "print(id(a))\n",
    "print(id(b))\n",
    "print(id(a[3]))\n",
    "print(id(b[3]))\n",
    "a[3][1]=666\n",
    "print(a)\n",
    "print(b)\n",
    "print(id(a[3]))\n",
    "print(id(b[3]))"
   ]
  },
  {
   "cell_type": "markdown",
   "metadata": {},
   "source": [
    "# 元组-tuple\n",
    "\n",
    "- 元组可以看成是一个不可更改的list\n",
    "\n",
    "## 元组创建"
   ]
  },
  {
   "cell_type": "code",
   "execution_count": 44,
   "metadata": {},
   "outputs": [
    {
     "name": "stdout",
     "output_type": "stream",
     "text": [
      "<class 'tuple'>\n",
      "()\n",
      "<class 'tuple'>\n",
      "(1,)\n",
      "<class 'tuple'>\n",
      "(1, 2, 3, 4, 5)\n",
      "<class 'tuple'>\n",
      "(1, 2, 3, 4, 5, 6)\n",
      "<class 'tuple'>\n",
      "(1, 2, 3, 4, 5, 6, 7)\n"
     ]
    }
   ],
   "source": [
    "#创建空元组\n",
    "t=()\n",
    "print(type(t))\n",
    "print(t)\n",
    "#创建一个只有一个值的元组\n",
    "t=(1,)\n",
    "print(type(t))\n",
    "print(t)\n",
    "# 创建多个值的元组\n",
    "t=(1,2,3,4,5)\n",
    "print(type(t))\n",
    "print(t)\n",
    "\n",
    "t=1,2,3,4,5,6\n",
    "print(type(t))\n",
    "print(t)\n",
    "# 使用其他结构创建\n",
    "l=[1,2,3,4,5,6,7]\n",
    "t=tuple(l)\n",
    "print(type(t))\n",
    "print(t)"
   ]
  },
  {
   "cell_type": "markdown",
   "metadata": {},
   "source": [
    "## 元组的特性\n",
    "- 是序列表，有序\n",
    "- 元组数据值可以访问，不能修改，不能修改，不能修改\n",
    "- 元组数据可以是任意类型\n",
    "- 总之，list所有特性，除了可修改外，元组都具有\n",
    "- 也就意味着，list具有的一些操作，比如索引，分片，序列相加，相乘，成员资格操作等，一模一样"
   ]
  },
  {
   "cell_type": "code",
   "execution_count": 47,
   "metadata": {},
   "outputs": [
    {
     "name": "stdout",
     "output_type": "stream",
     "text": [
      "5\n"
     ]
    }
   ],
   "source": [
    "t=(1,2,3,4,5)\n",
    "print(t[4])"
   ]
  },
  {
   "cell_type": "code",
   "execution_count": 48,
   "metadata": {},
   "outputs": [
    {
     "ename": "IndexError",
     "evalue": "tuple index out of range",
     "output_type": "error",
     "traceback": [
      "\u001b[0;31m---------------------------------------------------------------------------\u001b[0m",
      "\u001b[0;31mIndexError\u001b[0m                                Traceback (most recent call last)",
      "\u001b[0;32m<ipython-input-48-cade82bd6369>\u001b[0m in \u001b[0;36m<module>\u001b[0;34m()\u001b[0m\n\u001b[0;32m----> 1\u001b[0;31m \u001b[0mprint\u001b[0m\u001b[0;34m(\u001b[0m\u001b[0mt\u001b[0m\u001b[0;34m[\u001b[0m\u001b[0;36m10\u001b[0m\u001b[0;34m]\u001b[0m\u001b[0;34m)\u001b[0m\u001b[0;34m\u001b[0m\u001b[0m\n\u001b[0m",
      "\u001b[0;31mIndexError\u001b[0m: tuple index out of range"
     ]
    }
   ],
   "source": [
    "print(t[10])"
   ]
  },
  {
   "cell_type": "code",
   "execution_count": 53,
   "metadata": {},
   "outputs": [
    {
     "name": "stdout",
     "output_type": "stream",
     "text": [
      "(2, 3, 4)\n",
      "(1, 3)\n",
      "(1, 3, 5)\n",
      "(2, 3, 4, 5)\n"
     ]
    }
   ],
   "source": [
    "t=(1,2,3,4,5)\n",
    "t0=t[1:4:1]# 分片可以控制增长幅度，默认增长幅度为1\n",
    "print(t0)\n",
    "t1=t[0:3:2]# 分片可以控制增长幅度，每次隔一个\n",
    "print(t1)\n",
    "t2=t[0::2]\n",
    "print(t2)\n",
    "# 下标可以超出范围，超出后不在考虑多余下标内容\n",
    "print(t[1:100])"
   ]
  },
  {
   "cell_type": "code",
   "execution_count": 55,
   "metadata": {},
   "outputs": [
    {
     "name": "stdout",
     "output_type": "stream",
     "text": [
      "140281426670360\n",
      "(1, 2, 3, 4, 5, 6)\n",
      "140281426925224\n"
     ]
    },
    {
     "ename": "TypeError",
     "evalue": "'tuple' object does not support item assignment",
     "output_type": "error",
     "traceback": [
      "\u001b[0;31m---------------------------------------------------------------------------\u001b[0m",
      "\u001b[0;31mTypeError\u001b[0m                                 Traceback (most recent call last)",
      "\u001b[0;32m<ipython-input-55-d17319659d8a>\u001b[0m in \u001b[0;36m<module>\u001b[0;34m()\u001b[0m\n\u001b[1;32m     10\u001b[0m \u001b[0;31m# tuple 的不可修改，指的是内容的不可修改\u001b[0m\u001b[0;34m\u001b[0m\u001b[0;34m\u001b[0m\u001b[0m\n\u001b[1;32m     11\u001b[0m \u001b[0;31m# 修改tuple内容会导致报错\u001b[0m\u001b[0;34m\u001b[0m\u001b[0;34m\u001b[0m\u001b[0m\n\u001b[0;32m---> 12\u001b[0;31m \u001b[0mt1\u001b[0m\u001b[0;34m[\u001b[0m\u001b[0;36m1\u001b[0m\u001b[0;34m]\u001b[0m\u001b[0;34m=\u001b[0m\u001b[0;36m20\u001b[0m\u001b[0;34m\u001b[0m\u001b[0m\n\u001b[0m",
      "\u001b[0;31mTypeError\u001b[0m: 'tuple' object does not support item assignment"
     ]
    }
   ],
   "source": [
    "#序列相加\n",
    "t1=(1,2,3)\n",
    "t2=(4,5,6)\n",
    "print(id(t1))\n",
    "#传址\n",
    "t1=t1+t2\n",
    "print(t1)\n",
    "print(id(t1))\n",
    "\n",
    "# tuple 的不可修改，指的是内容的不可修改\n",
    "# 修改tuple内容会导致报错\n",
    "t1[1]=20"
   ]
  },
  {
   "cell_type": "code",
   "execution_count": 56,
   "metadata": {},
   "outputs": [
    {
     "name": "stdout",
     "output_type": "stream",
     "text": [
      "(1, 2, 3, 1, 2, 3, 1, 2, 3)\n"
     ]
    }
   ],
   "source": [
    "#元组相乘\n",
    "t1=(1,2,3)\n",
    "\n",
    "t1=t1 *  3\n",
    "print(t1)"
   ]
  },
  {
   "cell_type": "code",
   "execution_count": 58,
   "metadata": {},
   "outputs": [
    {
     "name": "stdout",
     "output_type": "stream",
     "text": [
      "666\n"
     ]
    }
   ],
   "source": [
    "#成员检测\n",
    "t1=(1,2,3)\n",
    "if 2 in t1:\n",
    "    print(\"666\")\n",
    "else:\n",
    "    print(\"777\")"
   ]
  },
  {
   "cell_type": "code",
   "execution_count": 59,
   "metadata": {},
   "outputs": [
    {
     "name": "stdout",
     "output_type": "stream",
     "text": [
      "1 2 3 aaa allala "
     ]
    }
   ],
   "source": [
    "# 元组遍历，一般采用for\n",
    "# 1. 单层元组遍历\n",
    "t1=(1,2,3,\"aaa\",\"allala\")\n",
    "\n",
    "for i in t1 :\n",
    "    print(i,end=\" \")"
   ]
  },
  {
   "cell_type": "code",
   "execution_count": 62,
   "metadata": {},
   "outputs": [
    {
     "name": "stdout",
     "output_type": "stream",
     "text": [
      "(1, 2, 3)\n",
      "(4, 5, 6)\n",
      "('dada', 'baba', 'mimi')\n",
      "******************************\n",
      "1 >> 2 >>> 3 >>>\n",
      "4 >> 5 >>> 6 >>>\n",
      "dada >> baba >>> mimi >>>\n"
     ]
    }
   ],
   "source": [
    "# 2. 双层元组的遍历\n",
    "t=((1,2,3),(4,5,6),(\"dada\",\"baba\",\"mimi\"))\n",
    "for i in t:\n",
    "    print(i)\n",
    "print(\"*\"*30)\n",
    "for k,w,v in t:#前提的子元组里面的元素必须一样，规则和list相同\n",
    "    print(k,\">>\",w,\">>>\",v,\">>>\")"
   ]
  },
  {
   "cell_type": "code",
   "execution_count": null,
   "metadata": {
    "collapsed": true
   },
   "outputs": [],
   "source": []
  }
 ],
 "metadata": {
  "kernelspec": {
   "display_name": "Python 3",
   "language": "python",
   "name": "python3"
  },
  "language_info": {
   "codemirror_mode": {
    "name": "ipython",
    "version": 3
   },
   "file_extension": ".py",
   "mimetype": "text/x-python",
   "name": "python",
   "nbconvert_exporter": "python",
   "pygments_lexer": "ipython3",
   "version": "3.6.3"
  }
 },
 "nbformat": 4,
 "nbformat_minor": 2
}
