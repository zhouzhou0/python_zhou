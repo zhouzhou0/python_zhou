{
 "cells": [
  {
   "cell_type": "markdown",
   "metadata": {},
   "source": [
    "# 变量作用域\n",
    "- 变量由作用范围限制\n",
    "- 分类：按照作用域分类\n",
    "    - 全局(global): 在函数外部定义\n",
    "    - 局部（local)：在函数内部定义\n",
    "- 变量的作用范围：\n",
    "    - 全局变量：在整个全局范围都有效\n",
    "    - 全局变量在局部可以使用（即函数内部可以方位函数外部定义的变量）\n",
    "    - 局部变量在局部范围可以使用\n",
    "    - 局部变量在全局范围无法使用\n",
    "- LEGB原则\n",
    "    - L（Local）局部作用域\n",
    "    - E（Enclosing function locale）外部嵌套函数作用域\n",
    "    - G（Global module）函数定义所在模块作用域\n",
    "    - B（Buildin）： python内置魔抗的作用域"
   ]
  },
  {
   "cell_type": "code",
   "execution_count": 2,
   "metadata": {},
   "outputs": [
    {
     "name": "stdout",
     "output_type": "stream",
     "text": [
      "999\n",
      "999\n",
      "111\n"
     ]
    }
   ],
   "source": [
    "a1=999\n",
    "def fun ():\n",
    "    print(a1)\n",
    "    a2=111\n",
    "    print(a2)\n",
    "print(a1)\n",
    "fun()\n",
    "#print(a2) a2是 属于那个局部，函数里面的，就无法访问"
   ]
  },
  {
   "cell_type": "code",
   "execution_count": 4,
   "metadata": {},
   "outputs": [
    {
     "name": "stdout",
     "output_type": "stream",
     "text": [
      "999\n",
      "999\n",
      "111\n"
     ]
    },
    {
     "ename": "NameError",
     "evalue": "name 'a2' is not defined",
     "output_type": "error",
     "traceback": [
      "\u001b[0;31m---------------------------------------------------------------------------\u001b[0m",
      "\u001b[0;31mNameError\u001b[0m                                 Traceback (most recent call last)",
      "\u001b[0;32m<ipython-input-4-977ae193102c>\u001b[0m in \u001b[0;36m<module>\u001b[0;34m()\u001b[0m\n\u001b[1;32m      6\u001b[0m \u001b[0mprint\u001b[0m\u001b[0;34m(\u001b[0m\u001b[0ma1\u001b[0m\u001b[0;34m)\u001b[0m\u001b[0;34m\u001b[0m\u001b[0m\n\u001b[1;32m      7\u001b[0m \u001b[0mfun\u001b[0m\u001b[0;34m(\u001b[0m\u001b[0;34m)\u001b[0m\u001b[0;34m\u001b[0m\u001b[0m\n\u001b[0;32m----> 8\u001b[0;31m \u001b[0mprint\u001b[0m\u001b[0;34m(\u001b[0m\u001b[0ma2\u001b[0m\u001b[0;34m)\u001b[0m\u001b[0;34m\u001b[0m\u001b[0m\n\u001b[0m",
      "\u001b[0;31mNameError\u001b[0m: name 'a2' is not defined"
     ]
    }
   ],
   "source": [
    "a1=999\n",
    "def fun ():\n",
    "    print(a1)\n",
    "    a2=111\n",
    "    print(a2)\n",
    "print(a1)\n",
    "fun()\n",
    "print(a2)"
   ]
  },
  {
   "cell_type": "markdown",
   "metadata": {},
   "source": [
    "## 提升局部变量为全局变量\n",
    "- 使用global\n",
    "- 案例如下"
   ]
  },
  {
   "cell_type": "code",
   "execution_count": 23,
   "metadata": {},
   "outputs": [
    {
     "name": "stdout",
     "output_type": "stream",
     "text": [
      "999\n",
      "111\n",
      "999\n",
      "111\n"
     ]
    }
   ],
   "source": [
    "a1=999\n",
    "def fun ():\n",
    "    print(a1)\n",
    "    global a2 #把a2定义为全局变量\n",
    "    a2=111\n",
    "    print(a2)\n",
    "print(a1)\n",
    "print(a2)\n",
    "fun()\n",
    "\n",
    "#print(a2)#这样就可以调用a2的值"
   ]
  },
  {
   "cell_type": "markdown",
   "metadata": {},
   "source": [
    "# globals, locals函数\n",
    "- 可以通过globals和locals显示出局部变量和全局变量\n",
    "- 参看以下案例"
   ]
  },
  {
   "cell_type": "code",
   "execution_count": 9,
   "metadata": {},
   "outputs": [
    {
     "name": "stdout",
     "output_type": "stream",
     "text": [
      "Locals={'e': 66, 'd': 222, 'c': 111}\n",
      "Globals={'__name__': '__main__', '__doc__': 'Automatically created module for IPython interactive environment', '__package__': None, '__loader__': None, '__spec__': None, '__builtin__': <module 'builtins' (built-in)>, '__builtins__': <module 'builtins' (built-in)>, '_ih': ['', 'a1=999\\ndef fun ():\\n    print(a1)\\n    a2=111\\n    print(a2)\\nprint(a1)\\nfun()', 'a1=999\\ndef fun ():\\n    print(a1)\\n    a2=111\\n    print(a2)\\nprint(a1)\\nfun()\\n#print(a2) a2是 属于那个局部，函数里面的，就无法访问', 'a1=999\\ndef fun ():\\n    print(a1)\\n    a2=111\\n    print(a2)\\nprint(a1)\\nfun()\\nprint(a2)', 'a1=999\\ndef fun ():\\n    print(a1)\\n    a2=111\\n    print(a2)\\nprint(a1)\\nfun()\\nprint(a2)', 'a1=999\\ndef fun ():\\n    print(a1)\\n    global(a2)\\n    a2=111\\n    print(a2)\\nprint(a1)\\nfun()\\nprint(a2)', 'a1=999\\ndef fun ():\\n    print(a1)\\n    global a2\\n    a2=111\\n    print(a2)\\nprint(a1)\\nfun()\\nprint(a2)', 'a1=999\\ndef fun ():\\n    print(a1)\\n    global a2 #把a2定义为全局变量\\n    a2=111\\n    print(a2)\\nprint(a1)\\nfun()\\nprint(a2)#这样就可以调用a2的值', 'a=10\\nb=20\\ndef fun(c,d):\\n    e=66\\n    print(\"Locals={}\".format(locals()))\\n    print(\"Globals={}\".format(globals()))', 'a=10\\nb=20\\ndef fun(c,d):\\n    e=66\\n    print(\"Locals={}\".format(locals()))\\n    print(\"Globals={}\".format(globals()))\\nfun(111,222)'], '_oh': {}, '_dh': ['/home/tlxy/python'], 'In': ['', 'a1=999\\ndef fun ():\\n    print(a1)\\n    a2=111\\n    print(a2)\\nprint(a1)\\nfun()', 'a1=999\\ndef fun ():\\n    print(a1)\\n    a2=111\\n    print(a2)\\nprint(a1)\\nfun()\\n#print(a2) a2是 属于那个局部，函数里面的，就无法访问', 'a1=999\\ndef fun ():\\n    print(a1)\\n    a2=111\\n    print(a2)\\nprint(a1)\\nfun()\\nprint(a2)', 'a1=999\\ndef fun ():\\n    print(a1)\\n    a2=111\\n    print(a2)\\nprint(a1)\\nfun()\\nprint(a2)', 'a1=999\\ndef fun ():\\n    print(a1)\\n    global(a2)\\n    a2=111\\n    print(a2)\\nprint(a1)\\nfun()\\nprint(a2)', 'a1=999\\ndef fun ():\\n    print(a1)\\n    global a2\\n    a2=111\\n    print(a2)\\nprint(a1)\\nfun()\\nprint(a2)', 'a1=999\\ndef fun ():\\n    print(a1)\\n    global a2 #把a2定义为全局变量\\n    a2=111\\n    print(a2)\\nprint(a1)\\nfun()\\nprint(a2)#这样就可以调用a2的值', 'a=10\\nb=20\\ndef fun(c,d):\\n    e=66\\n    print(\"Locals={}\".format(locals()))\\n    print(\"Globals={}\".format(globals()))', 'a=10\\nb=20\\ndef fun(c,d):\\n    e=66\\n    print(\"Locals={}\".format(locals()))\\n    print(\"Globals={}\".format(globals()))\\nfun(111,222)'], 'Out': {}, 'get_ipython': <bound method InteractiveShell.get_ipython of <ipykernel.zmqshell.ZMQInteractiveShell object at 0x7f5698539b70>>, 'exit': <IPython.core.autocall.ZMQExitAutocall object at 0x7f569849bef0>, 'quit': <IPython.core.autocall.ZMQExitAutocall object at 0x7f569849bef0>, '_': '', '__': '', '___': '', '_i': 'a=10\\nb=20\\ndef fun(c,d):\\n    e=66\\n    print(\"Locals={}\".format(locals()))\\n    print(\"Globals={}\".format(globals()))', '_ii': 'a1=999\\ndef fun ():\\n    print(a1)\\n    global a2 #把a2定义为全局变量\\n    a2=111\\n    print(a2)\\nprint(a1)\\nfun()\\nprint(a2)#这样就可以调用a2的值', '_iii': 'a1=999\\ndef fun ():\\n    print(a1)\\n    global a2\\n    a2=111\\n    print(a2)\\nprint(a1)\\nfun()\\nprint(a2)', '_i1': 'a1=999\\ndef fun ():\\n    print(a1)\\n    a2=111\\n    print(a2)\\nprint(a1)\\nfun()', 'a1': 999, 'fun': <function fun at 0x7f56942fdd08>, '_i2': 'a1=999\\ndef fun ():\\n    print(a1)\\n    a2=111\\n    print(a2)\\nprint(a1)\\nfun()\\n#print(a2) a2是 属于那个局部，函数里面的，就无法访问', '_i3': 'a1=999\\ndef fun ():\\n    print(a1)\\n    a2=111\\n    print(a2)\\nprint(a1)\\nfun()\\nprint(a2)', '_i4': 'a1=999\\ndef fun ():\\n    print(a1)\\n    a2=111\\n    print(a2)\\nprint(a1)\\nfun()\\nprint(a2)', '_i5': 'a1=999\\ndef fun ():\\n    print(a1)\\n    global(a2)\\n    a2=111\\n    print(a2)\\nprint(a1)\\nfun()\\nprint(a2)', '_i6': 'a1=999\\ndef fun ():\\n    print(a1)\\n    global a2\\n    a2=111\\n    print(a2)\\nprint(a1)\\nfun()\\nprint(a2)', 'a2': 111, '_i7': 'a1=999\\ndef fun ():\\n    print(a1)\\n    global a2 #把a2定义为全局变量\\n    a2=111\\n    print(a2)\\nprint(a1)\\nfun()\\nprint(a2)#这样就可以调用a2的值', '_i8': 'a=10\\nb=20\\ndef fun(c,d):\\n    e=66\\n    print(\"Locals={}\".format(locals()))\\n    print(\"Globals={}\".format(globals()))', 'a': 10, 'b': 20, '_i9': 'a=10\\nb=20\\ndef fun(c,d):\\n    e=66\\n    print(\"Locals={}\".format(locals()))\\n    print(\"Globals={}\".format(globals()))\\nfun(111,222)'}\n"
     ]
    }
   ],
   "source": [
    "# globals 和 locals\n",
    "# globals 和 locals 叫做内建函数\n",
    "a=10\n",
    "b=20\n",
    "def fun(c,d):\n",
    "    e=66\n",
    "    print(\"Locals={}\".format(locals()))\n",
    "    print(\"Globals={}\".format(globals()))\n",
    "fun(111,222)"
   ]
  },
  {
   "cell_type": "markdown",
   "metadata": {},
   "source": [
    "# eval()函数\n",
    "- 把一个字符串当成一个表达式来执行， 返回表达式执行后的结果\n",
    "- 语法： \n",
    "    \n",
    "            eval(string_code, globals=None, locals=None)\n",
    "            \n",
    "# exec()函数\n",
    "- 跟eval功能类似， 但是，不返回结果\n",
    "- 语法：\n",
    "\n",
    "        exec(string_code, globals=None, locals=None)"
   ]
  },
  {
   "cell_type": "code",
   "execution_count": 12,
   "metadata": {},
   "outputs": [
    {
     "name": "stdout",
     "output_type": "stream",
     "text": [
      "187\n",
      "187\n"
     ]
    }
   ],
   "source": [
    "y=88\n",
    "x=99\n",
    "z1=x+y\n",
    "z2=eval(\"x+y\")\n",
    "\n",
    "print(z1)\n",
    "print(z2)"
   ]
  },
  {
   "cell_type": "code",
   "execution_count": 26,
   "metadata": {},
   "outputs": [
    {
     "name": "stdout",
     "output_type": "stream",
     "text": [
      "x+y= 187\n",
      "187\n",
      "None\n"
     ]
    }
   ],
   "source": [
    "y=88\n",
    "x=99\n",
    "z1=x+y\n",
    "z2=exec(\"print('x+y=',x+y)\")\n",
    "\n",
    "\n",
    "print(z1)\n",
    "print(z2)"
   ]
  },
  {
   "cell_type": "markdown",
   "metadata": {},
   "source": [
    "# 递归函数\n",
    "- 函数直接或者间接调用自身\n",
    "- 优点：简洁，理解容易\n",
    "- 缺点：对递归深度有限制，消耗资源大\n",
    "- python对递归深度有限制，超过限制报错\n",
    "- 在写递归程序的时候，一定注意结束条件"
   ]
  },
  {
   "cell_type": "code",
   "execution_count": null,
   "metadata": {},
   "outputs": [],
   "source": [
    "x=0\n",
    "def fun():\n",
    "    global x\n",
    "    x+=1\n",
    "    print(x)\n",
    "    fun()#函数调用自己\n",
    "#fun()"
   ]
  },
  {
   "cell_type": "code",
   "execution_count": 40,
   "metadata": {},
   "outputs": [
    {
     "data": {
      "text/plain": [
       "55"
      ]
     },
     "execution_count": 40,
     "metadata": {},
     "output_type": "execute_result"
    }
   ],
   "source": [
    "# 斐波那契额数列\n",
    "# 一列数字，第一个值是1， 第二个也是1， 从第三个开始，每一个数字的值等于前两个数字出现的值的和\n",
    "# 数学公式为： f(1) = 1, f(2) = 1, f(n) = f(n-1) + f(n-2)\n",
    "# 例如： 1,1，2，3,5,8,13.。。。。。。。。\n",
    "\n",
    "\n",
    "# n表示求第n个数子的斐波那契数列的值\n",
    "def fbn(n):\n",
    "    if n==1:\n",
    "        return 1\n",
    "    if n==2:\n",
    "        return 1\n",
    "    return fbn(n-1)+fbn(n-2)\n",
    "\n",
    "fbn(10)\n"
   ]
  },
  {
   "cell_type": "code",
   "execution_count": 44,
   "metadata": {},
   "outputs": [
    {
     "name": "stdout",
     "output_type": "stream",
     "text": [
      "-46745\n"
     ]
    }
   ],
   "source": [
    "# 下面求斐波那契数列函数有一定问题，比如n一开始就是负数，如何修正\n",
    "# 数学公式为： f(1) = -10, f(2) = -5, f(n) = f(n-1) + f(n-2)\n",
    "def fbn1(n):\n",
    "    if n==1:\n",
    "        return -10\n",
    "    if n==2:\n",
    "        return -5\n",
    "    return fbn1(n-1)+fbn1(n-2)\n",
    "print(fbn1(20))"
   ]
  },
  {
   "cell_type": "markdown",
   "metadata": {},
   "source": [
    "# 内置数据结构（变量类型） \n",
    "- list\n",
    "- set\n",
    "- dict\n",
    "- tuple\n",
    "## list(列表）\n",
    "- 一组由顺序的数据的组合\n",
    "- 创建列表\n",
    "    - 空列表"
   ]
  },
  {
   "cell_type": "code",
   "execution_count": 51,
   "metadata": {},
   "outputs": [
    {
     "name": "stdout",
     "output_type": "stream",
     "text": [
      "<class 'list'>\n",
      "<class 'list'>\n",
      "555\n",
      "<class 'list'>\n",
      "[]\n"
     ]
    }
   ],
   "source": [
    "#空列表\n",
    "l=[]\n",
    "print(type(l))\n",
    "#带值的列表\n",
    "l2=[100,11,555]\n",
    "print(type(l2))\n",
    "print(l2[2])\n",
    "#用list()\n",
    "l3=list()\n",
    "print(type(l3))\n",
    "print(l3)"
   ]
  },
  {
   "cell_type": "markdown",
   "metadata": {},
   "source": [
    "## 列表常用操作\n",
    "- 访问\n",
    "    - 使用下标操作（索引）\n",
    "    - 列表的位置是从0开始\n",
    "- 分片操作\n",
    "    - 对列表进行任意一段的截取\n",
    "    - l[:]\n"
   ]
  },
  {
   "cell_type": "code",
   "execution_count": 53,
   "metadata": {},
   "outputs": [
    {
     "name": "stdout",
     "output_type": "stream",
     "text": [
      "6\n",
      "1\n"
     ]
    }
   ],
   "source": [
    "l = [1,2,3,4,5,6,7,8,9,10]\n",
    "print(l[5])\n",
    "print(l[0])"
   ]
  },
  {
   "cell_type": "code",
   "execution_count": 55,
   "metadata": {},
   "outputs": [
    {
     "name": "stdout",
     "output_type": "stream",
     "text": [
      "[1, 2, 3, 4, 5, 6]\n"
     ]
    }
   ],
   "source": [
    "print(l[0:6])#截取范围包含左边的下标值，不包含右边的下标值"
   ]
  },
  {
   "cell_type": "code",
   "execution_count": 58,
   "metadata": {},
   "outputs": [
    {
     "name": "stdout",
     "output_type": "stream",
     "text": [
      "[1, 2, 3, 4, 5, 6, 7, 8, 9, 10]\n",
      "[1, 2, 3]\n",
      "[6, 7, 8, 9, 10]\n"
     ]
    }
   ],
   "source": [
    "# 下标值可以为空，如果不写，左边下标值默认为0， 右边下标值为最大数加一，即表示截取到最后一个数据\n",
    "print(l[:])\n",
    "print(l[:3])\n",
    "print(l[5:])"
   ]
  },
  {
   "cell_type": "code",
   "execution_count": 61,
   "metadata": {},
   "outputs": [
    {
     "name": "stdout",
     "output_type": "stream",
     "text": [
      "[1, 2, 3, 4, 5, 6]\n",
      "[1, 3, 5, 7, 9]\n",
      "[6, 7, 8, 9, 10]\n"
     ]
    }
   ],
   "source": [
    "# 分片可以控制增长幅度，默认增长幅度为1\n",
    "print(l[0:6:1])\n",
    "# 打印从下标1开始的数字，每次隔一个\n",
    "print(l[0:11:2])\n",
    "# 下标可以超出范围，超出后不在考虑多余下标内容\n",
    "print(l[5:20])\n"
   ]
  },
  {
   "cell_type": "code",
   "execution_count": 66,
   "metadata": {},
   "outputs": [
    {
     "name": "stdout",
     "output_type": "stream",
     "text": [
      "[1, 2, 3, 4, 5, 6, 7, 8, 9, 10]\n",
      "[]\n",
      "[8, 9]\n",
      "[10, 9, 8, 7]\n",
      "[6, 7, 8, 9]\n"
     ]
    }
   ],
   "source": [
    "# 下标值，增长幅度可以为负数\n",
    "# 为负数，表明顺序是从右往左\n",
    "# 规定： 数组最后一个数字的下标是-1\n",
    "print(l)\n",
    "# 即正常情况，分片左边的值一定小于右边的值\n",
    "print(l[-1:-3])\n",
    "print(l[-3:-1])#仍然不包含括号左边的值\n",
    "# 如果分片一定左边值比右边大，则步长参数需要使用负数\n",
    "# 此案例为一个list直接正反颠倒提供了一种思路\n",
    "print(l[-1:-5:-1])\n",
    "print(l[-5:-1:1])"
   ]
  },
  {
   "cell_type": "markdown",
   "metadata": {},
   "source": [
    "## 分片操作是生成一个新的list\n",
    "- 内置函数id，负责显示一个变量或者数据的唯一确定编号"
   ]
  },
  {
   "cell_type": "code",
   "execution_count": 71,
   "metadata": {},
   "outputs": [
    {
     "name": "stdout",
     "output_type": "stream",
     "text": [
      "94557304540672\n",
      "94557304540992\n",
      "94557304540992\n",
      "50\n",
      "20\n"
     ]
    }
   ],
   "source": [
    "a=10\n",
    "b=20\n",
    "print(id(a))\n",
    "print(id(b))\n",
    "c=b\n",
    "print(id(c))\n",
    "# 如果a跟c只想一份数据，则更改a的值同样也会更改c的值\n",
    "# 但是，显示结果并非如此，为什么？\n",
    "b=50\n",
    "print(b)\n",
    "print(c)"
   ]
  },
  {
   "cell_type": "code",
   "execution_count": 74,
   "metadata": {
    "scrolled": true
   },
   "outputs": [
    {
     "name": "stdout",
     "output_type": "stream",
     "text": [
      "140009827882696\n",
      "140009827675976\n",
      "140009827675976\n",
      "[1, 33, 3, 4, 5, 6, 7, 8, 9]\n",
      "[1, 2, 3, 4, 5, 6, 7, 8, 9]\n",
      "[1, 33, 3, 4, 5, 6, 7, 8, 9]\n",
      "[1, 33, 3, 4, 5, 6, 7, 8, 9]\n"
     ]
    }
   ],
   "source": [
    "# 通过id可以直接判断出分片是从新生成了一份数据还是使用的同一份数据\n",
    "l=[1,2,3,4,5,6,7,8,9,]\n",
    "ll=l[:]\n",
    "lll=ll\n",
    "print(id(l))\n",
    "print(id(ll))\n",
    "print(id(lll))\n",
    "# 如果两个id值一样，则表明分片产生的列表是使用的同一地址同一份数据\n",
    "# 否则，则表明分片是从新生成了一份数据，即一个新的列表，然后把数值拷贝到新列表中\n",
    "\n",
    "\n",
    "# 通过id知道，ll和lll是同一份数据，验证代码如下\n",
    "l[1]=33\n",
    "print(l)\n",
    "print(ll)\n",
    "ll[1]=33\n",
    "print(ll)\n",
    "print(lll)"
   ]
  },
  {
   "cell_type": "code",
   "execution_count": null,
   "metadata": {
    "collapsed": true
   },
   "outputs": [],
   "source": []
  },
  {
   "cell_type": "code",
   "execution_count": null,
   "metadata": {
    "collapsed": true
   },
   "outputs": [],
   "source": []
  }
 ],
 "metadata": {
  "kernelspec": {
   "display_name": "Python 3",
   "language": "python",
   "name": "python3"
  },
  "language_info": {
   "codemirror_mode": {
    "name": "ipython",
    "version": 3
   },
   "file_extension": ".py",
   "mimetype": "text/x-python",
   "name": "python",
   "nbconvert_exporter": "python",
   "pygments_lexer": "ipython3",
   "version": "3.6.3"
  }
 },
 "nbformat": 4,
 "nbformat_minor": 2
}
