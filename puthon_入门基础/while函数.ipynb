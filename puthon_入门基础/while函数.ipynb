{
 "cells": [
  {
   "cell_type": "markdown",
   "metadata": {},
   "source": [
    "# while循环\n",
    "`一个循环语句\n",
    "` 表示当某条件成立的时候，就循环\n",
    "` 不知道具体循环次数，但能确定循环的成立条件的时候用while循环\n",
    "while语法：\n",
    "    \n",
    "    while 条件表达式：\n",
    "        语句块\n",
    "     #另一直表达式\n",
    "     while 条件表达式\n",
    "         语句块1\n",
    "     else：\n",
    "         语句块2"
   ]
  },
  {
   "cell_type": "code",
   "execution_count": 3,
   "metadata": {},
   "outputs": [
    {
     "name": "stdout",
     "output_type": "stream",
     "text": [
      "第1年拿了106.69999999999999钱\n",
      "第2年拿了113.84889999999999钱\n",
      "第3年拿了121.47677629999998钱\n",
      "第4年拿了129.61572031209997钱\n",
      "第5年拿了138.29997357301065钱\n",
      "第6年拿了147.56607180240235钱\n",
      "第7年拿了157.4529986131633钱\n",
      "第8年拿了168.00234952024522钱\n",
      "第9年拿了179.25850693810165钱\n",
      "第10年拿了191.26882690295446钱\n",
      "第11年拿了204.0838383054524钱\n",
      "有钱赶紧花啊，别存着了\n"
     ]
    }
   ],
   "source": [
    "#如果年利率6.7%，本利是每年翻滚，则多少年后本钱会翻倍。\n",
    "benqian = 100\n",
    "year =0\n",
    "while benqian <200 :\n",
    "    benqian=benqian*(1+0.067)\n",
    "    year+=1\n",
    "    print(\"第{0}年拿了{1}钱\".format(year,benqian))\n",
    "else:\n",
    "    print(\"有钱赶紧花啊，别存着了\")"
   ]
  },
  {
   "cell_type": "markdown",
   "metadata": {},
   "source": [
    "# 函数\n",
    "    代码的一种组织形式\n",
    "    一个函数一般完成一项特定的功能\n",
    "    函数的使用\n",
    "        函数需先定义\n",
    "        使用函数，俗称调用"
   ]
  },
  {
   "cell_type": "code",
   "execution_count": 13,
   "metadata": {},
   "outputs": [
    {
     "name": "stdout",
     "output_type": "stream",
     "text": [
      "ooo\n"
     ]
    }
   ],
   "source": [
    "#定义一个函数\n",
    "#只是定义的话，不会执行\n",
    "#1.def 关键字，后面跟一个空格\n",
    "#2.函数名自己定义，起名需要遵循命名规则 约定俗成大驼峰命名只给类用\n",
    "#3.后面跟括号和冒号不能省，括号内可以有参数\n",
    "#4.函数内所有代码缩进\n",
    "def fun():\n",
    "    print(\"你是猪啊\")\n",
    "    print(\"承认了吧\")\n",
    "print(\"ooo\")\n"
   ]
  },
  {
   "cell_type": "code",
   "execution_count": 14,
   "metadata": {},
   "outputs": [
    {
     "name": "stdout",
     "output_type": "stream",
     "text": [
      "你是猪啊\n",
      "承认了吧\n"
     ]
    }
   ],
   "source": [
    "fun()"
   ]
  },
  {
   "cell_type": "markdown",
   "metadata": {},
   "source": [
    "# 函数的参数和返回值\n",
    " - 参数： 负责给函数传递一些必要的数据或信息\n",
    "   - 形参（形式参数）， 在函数定义的时候用到的参数没有具体的值，只是一个占位符，成为形参\n",
    "   - 实参（实际参数）， 在调用函数的时候输入的值\n",
    " - 返回值： 函数的执行结果\n",
    "       - 使用return关键字\n",
    "       -  "
   ]
  },
  {
   "cell_type": "code",
   "execution_count": 16,
   "metadata": {},
   "outputs": [
    {
     "name": "stdout",
     "output_type": "stream",
     "text": [
      "输入您的名字呀 狗子\n",
      "狗子,您好呀\n"
     ]
    }
   ],
   "source": [
    "#参数的定义和使用\n",
    "#参数person只是一个符号，代表的调用的时候的某一个数据\n",
    "#调用的时候，会用p的值代替函数中所有的person\n",
    "\n",
    "def hello(person):\n",
    "    print(\"{},您好呀\".format(person))\n",
    "p=input(\"输入您的名字呀 \")\n",
    "hello(p)"
   ]
  },
  {
   "cell_type": "code",
   "execution_count": 21,
   "metadata": {},
   "outputs": [
    {
     "name": "stdout",
     "output_type": "stream",
     "text": [
      "输入您的名字呀 pp\n",
      "pp,您好呀\n",
      "你好美啊\n"
     ]
    }
   ],
   "source": [
    "#return\n",
    "def hello(person):\n",
    "    print(\"{},您好呀\".format(person))\n",
    "    return \"你好美啊\"\n",
    "p=input(\"输入您的名字呀 \")\n",
    "\n",
    "\n",
    "rst=hello(p)\n",
    "print(rst)"
   ]
  },
  {
   "cell_type": "code",
   "execution_count": 57,
   "metadata": {},
   "outputs": [
    {
     "name": "stdout",
     "output_type": "stream",
     "text": [
      "输入的名字是： ss\n",
      "ss,您好呀\n",
      "你好美啊\n"
     ]
    }
   ],
   "source": [
    "def hello(person):\n",
    "    print(\"{},您好呀\".format(person))\n",
    "    return \"你好美啊\"\n",
    "    print(\"小朋友啊\")\n",
    "    return \"nininini\"\n",
    "p=input(\"输入的名字是： \")\n",
    "\n",
    "\n",
    "rst=hello(p)\n",
    "print(rst)"
   ]
  },
  {
   "cell_type": "code",
   "execution_count": 58,
   "metadata": {},
   "outputs": [
    {
     "name": "stdout",
     "output_type": "stream",
     "text": [
      "Help on built-in function print in module builtins:\n",
      "\n",
      "print(...)\n",
      "    print(value, ..., sep=' ', end='\\n', file=sys.stdout, flush=False)\n",
      "    \n",
      "    Prints the values to a stream, or to sys.stdout by default.\n",
      "    Optional keyword arguments:\n",
      "    file:  a file-like object (stream); defaults to the current sys.stdout.\n",
      "    sep:   string inserted between values, default a space.\n",
      "    end:   string appended after the last value, default a newline.\n",
      "    flush: whether to forcibly flush the stream.\n",
      "\n"
     ]
    }
   ],
   "source": [
    "help(print)"
   ]
  },
  {
   "cell_type": "code",
   "execution_count": 56,
   "metadata": {},
   "outputs": [
    {
     "name": "stdout",
     "output_type": "stream",
     "text": [
      "1  \n",
      "2 4  \n",
      "3 6 9  \n",
      "4 8 12 16  \n",
      "5 10 15 20 25  \n",
      "6 12 18 24 30 36  \n",
      "7 14 21 28 35 42 49  \n",
      "8 16 24 32 40 48 56 64  \n",
      "9 18 27 36 45 54 63 72 81  \n"
     ]
    }
   ],
   "source": [
    "#99乘法表\n",
    "for i in range(1,10):\n",
    "    for m in range(1,i+1):\n",
    "        print(i*m,end=\" \")\n",
    "    print(\" \")"
   ]
  },
  {
   "cell_type": "code",
   "execution_count": null,
   "metadata": {
    "collapsed": true
   },
   "outputs": [],
   "source": []
  },
  {
   "cell_type": "code",
   "execution_count": 55,
   "metadata": {},
   "outputs": [
    {
     "name": "stdout",
     "output_type": "stream",
     "text": [
      "1  \n",
      "2 4  \n",
      "3 6 9  \n",
      "4 8 12 16  \n",
      "5 10 15 20 25  \n",
      "6 12 18 24 30 36  \n",
      "7 14 21 28 35 42 49  \n",
      "8 16 24 32 40 48 56 64  \n",
      "9 18 27 36 45 54 63 72 81  \n"
     ]
    }
   ],
   "source": [
    "def hanshu(i):\n",
    "    for m in  range(1,i+1):\n",
    "     print(i*m,end=\" \")\n",
    "    \n",
    "for i in range(1,10):\n",
    "    hanshu(i)\n",
    "    print(\" \")"
   ]
  },
  {
   "cell_type": "markdown",
   "metadata": {},
   "source": [
    "[参考资料](https://www.cnblogs.com/bingabcd/p/6671368.html)\n",
    "    python参考资料： headfirst python -> 零基础入门学习python（小甲鱼),本讲义参考的是流畅的python-->习题-->后期可以考虑腾讯公开免费课\n",
    "# 参数分类\n",
    "    普通参数\n",
    "    默认参数\n",
    "    关键字参数\n",
    "    收集参数\n",
    " 普通参数\n",
    "     \"- 普通参数\n",
    "    \"    - 参见上例\n",
    "    \"    - 定义的时候直接定义变量名\n",
    "    \"    - 调用的时候直接把变量或者值放入指定位置\n",
    "\n",
    "    \"                def 函数名（参数1， 参数2，....)\n",
    "    \"                    函数体,\n",
    "    \"                   \n",
    "    \"                # 调用\n",
    "    \"                函数名（value1, value2,.......)\n",
    "    \"                \n",
    "    \"                # 调用的时候，具体值参考的是位置，按位置赋值\n",
    "    \"- 默认参数\n",
    "    \"    - 形参带有默认值,\n",
    "    \"    - 调用的时候，如果没有对相应形参赋值，则使用默认值\n",
    "          def func_name(p1=v1,p2=v2....)\n",
    "           func_back\n",
    "           \\\n",
    "          \n",
    "          # 调用1\n",
    "          func_name()\n",
    "          \n",
    "          # 调用2\n",
    "          value1= 100,\n",
    "    \"     value2=200\\n\",\n",
    "    \"     func_name(value1,value2)"
   ]
  },
  {
   "cell_type": "code",
   "execution_count": 68,
   "metadata": {},
   "outputs": [
    {
     "name": "stdout",
     "output_type": "stream",
     "text": [
      "lili he is a cool booy, he is 20years old\n"
     ]
    }
   ],
   "source": [
    "def information(name,age,xingbie=\"nv\"):\n",
    "      if xingbie ==\"nv\":\n",
    "        print(\"{0} she is a good girl,she is{1} years old\".format(name,age))\n",
    "      else:\n",
    "        print(\"{0} he is a cool booy, he is {1}years old\".format(name,age))\n",
    "information(\"lili\",20,\"nan\")"
   ]
  },
  {
   "cell_type": "code",
   "execution_count": 70,
   "metadata": {},
   "outputs": [
    {
     "name": "stdout",
     "output_type": "stream",
     "text": [
      "lili she is a good girl,she is20 years old\n"
     ]
    }
   ],
   "source": [
    "def information(name,age,xingbie=\"nv\"):\n",
    "      if xingbie ==\"nv\":\n",
    "        print(\"{0} she is a good girl,she is{1} years old\".format(name,age))\n",
    "      else:\n",
    "        print(\"{0} he is a cool booy, he is {1}years old\".format(name,age))\n",
    "name=\"lili\"\n",
    "age=20\n",
    "\n",
    "information(name,age)"
   ]
  },
  {
   "cell_type": "code",
   "execution_count": null,
   "metadata": {
    "collapsed": true
   },
   "outputs": [],
   "source": []
  },
  {
   "cell_type": "code",
   "execution_count": null,
   "metadata": {
    "collapsed": true
   },
   "outputs": [],
   "source": []
  }
 ],
 "metadata": {
  "kernelspec": {
   "display_name": "Python 3",
   "language": "python",
   "name": "python3"
  },
  "language_info": {
   "codemirror_mode": {
    "name": "ipython",
    "version": 3
   },
   "file_extension": ".py",
   "mimetype": "text/x-python",
   "name": "python",
   "nbconvert_exporter": "python",
   "pygments_lexer": "ipython3",
   "version": "3.6.3"
  }
 },
 "nbformat": 4,
 "nbformat_minor": 2
}
